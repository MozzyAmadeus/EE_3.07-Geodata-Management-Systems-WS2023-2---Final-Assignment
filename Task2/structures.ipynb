{
 "cells": [
  {
   "cell_type": "code",
   "execution_count": 1,
   "id": "f7ba1262-150d-482f-893e-3951f3a074d0",
   "metadata": {},
   "outputs": [],
   "source": [
    "import geopandas as gpd\n",
    "from shapely.geometry import Polygon"
   ]
  },
  {
   "cell_type": "code",
   "execution_count": 3,
   "id": "a6b429b5-d4f1-4cf7-acf3-3457c9acce85",
   "metadata": {},
   "outputs": [],
   "source": [
    "coords = [(317123.56, 5729747.53), (317095.287, 5729822.764), (317173.419, 5729850.270), (317206.390, 5729783.662)]"
   ]
  },
  {
   "cell_type": "code",
   "execution_count": 4,
   "id": "9cc57be1-eb83-413b-b675-55631357824e",
   "metadata": {},
   "outputs": [],
   "source": [
    "poly = Polygon(coords)"
   ]
  },
  {
   "cell_type": "code",
   "execution_count": 5,
   "id": "2a764c7f-dd8b-4117-a7d2-a7d3fc844720",
   "metadata": {},
   "outputs": [],
   "source": [
    "gseries = gpd.GeoSeries([poly])"
   ]
  },
  {
   "cell_type": "code",
   "execution_count": 6,
   "id": "3eeb5926-4213-4966-b74f-4a71cb4a4419",
   "metadata": {},
   "outputs": [],
   "source": [
    "gdf = gpd.GeoDataFrame({'geometry': gseries})"
   ]
  },
  {
   "cell_type": "code",
   "execution_count": 7,
   "id": "b61d2199-8965-4ad3-a9c1-670975e722a6",
   "metadata": {},
   "outputs": [],
   "source": [
    "gdf.to_file(\"structures.gpkg\", driver='GPKG')"
   ]
  },
  {
   "cell_type": "code",
   "execution_count": null,
   "id": "0eeb2d10-c1f6-4584-a7ee-ae0cf003bd13",
   "metadata": {},
   "outputs": [],
   "source": []
  }
 ],
 "metadata": {
  "kernelspec": {
   "display_name": "Python 3 (ipykernel)",
   "language": "python",
   "name": "python3"
  },
  "language_info": {
   "codemirror_mode": {
    "name": "ipython",
    "version": 3
   },
   "file_extension": ".py",
   "mimetype": "text/x-python",
   "name": "python",
   "nbconvert_exporter": "python",
   "pygments_lexer": "ipython3",
   "version": "3.12.2"
  }
 },
 "nbformat": 4,
 "nbformat_minor": 5
}
